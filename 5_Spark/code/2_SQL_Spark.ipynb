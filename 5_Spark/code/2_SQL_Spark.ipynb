{
 "cells": [
  {
   "cell_type": "code",
   "execution_count": 1,
   "id": "a640c778",
   "metadata": {},
   "outputs": [
    {
     "name": "stderr",
     "output_type": "stream",
     "text": [
      "Setting default log level to \"WARN\".\n",
      "To adjust logging level use sc.setLogLevel(newLevel). For SparkR, use setLogLevel(newLevel).\n"
     ]
    },
    {
     "name": "stdout",
     "output_type": "stream",
     "text": [
      "22/12/15 17:58:51 WARN NativeCodeLoader: Unable to load native-hadoop library for your platform... using builtin-java classes where applicable\n"
     ]
    }
   ],
   "source": [
    "import pyspark\n",
    "from pyspark.sql import SparkSession\n",
    "spark = SparkSession.builder \\\n",
    "    .master(\"local[*]\") \\\n",
    "    .appName('test') \\\n",
    "    .getOrCreate()"
   ]
  },
  {
   "cell_type": "code",
   "execution_count": 2,
   "id": "c76707bb",
   "metadata": {},
   "outputs": [
    {
     "name": "stderr",
     "output_type": "stream",
     "text": [
      "                                                                                \r"
     ]
    }
   ],
   "source": [
    "df_green = spark.read.parquet('data/files/green/*')\n",
    "df_yellow = spark.read.parquet('data/files/yellow/*')"
   ]
  },
  {
   "cell_type": "code",
   "execution_count": 4,
   "id": "a3bf1796",
   "metadata": {},
   "outputs": [
    {
     "data": {
      "text/plain": [
       "['VendorID',\n",
       " 'lpep_pickup_datetime',\n",
       " 'lpep_dropoff_datetime',\n",
       " 'store_and_fwd_flag',\n",
       " 'RatecodeID',\n",
       " 'PULocationID',\n",
       " 'DOLocationID',\n",
       " 'passenger_count',\n",
       " 'trip_distance',\n",
       " 'fare_amount',\n",
       " 'extra',\n",
       " 'mta_tax',\n",
       " 'tip_amount',\n",
       " 'tolls_amount',\n",
       " 'ehail_fee',\n",
       " 'improvement_surcharge',\n",
       " 'total_amount',\n",
       " 'payment_type',\n",
       " 'trip_type',\n",
       " 'congestion_surcharge']"
      ]
     },
     "execution_count": 4,
     "metadata": {},
     "output_type": "execute_result"
    }
   ],
   "source": [
    "df_green.columns"
   ]
  },
  {
   "cell_type": "code",
   "execution_count": 14,
   "id": "2c2605b8",
   "metadata": {},
   "outputs": [
    {
     "data": {
      "text/plain": [
       "['VendorID',\n",
       " 'pickup_datetime',\n",
       " 'dropoff_datetime',\n",
       " 'passenger_count',\n",
       " 'trip_distance',\n",
       " 'RatecodeID',\n",
       " 'store_and_fwd_flag',\n",
       " 'PULocationID',\n",
       " 'DOLocationID',\n",
       " 'payment_type',\n",
       " 'fare_amount',\n",
       " 'extra',\n",
       " 'mta_tax',\n",
       " 'tip_amount',\n",
       " 'tolls_amount',\n",
       " 'improvement_surcharge',\n",
       " 'total_amount',\n",
       " 'congestion_surcharge',\n",
       " 'airport_fee']"
      ]
     },
     "execution_count": 14,
     "metadata": {},
     "output_type": "execute_result"
    }
   ],
   "source": [
    "df_yellow.columns"
   ]
  },
  {
   "cell_type": "code",
   "execution_count": 3,
   "id": "d9909314",
   "metadata": {},
   "outputs": [
    {
     "data": {
      "text/plain": [
       "{'DOLocationID',\n",
       " 'PULocationID',\n",
       " 'RatecodeID',\n",
       " 'VendorID',\n",
       " 'congestion_surcharge',\n",
       " 'extra',\n",
       " 'fare_amount',\n",
       " 'improvement_surcharge',\n",
       " 'mta_tax',\n",
       " 'passenger_count',\n",
       " 'payment_type',\n",
       " 'store_and_fwd_flag',\n",
       " 'tip_amount',\n",
       " 'tolls_amount',\n",
       " 'total_amount',\n",
       " 'trip_distance'}"
      ]
     },
     "execution_count": 3,
     "metadata": {},
     "output_type": "execute_result"
    }
   ],
   "source": [
    "set(df_green.columns) & set(df_yellow.columns)"
   ]
  },
  {
   "cell_type": "code",
   "execution_count": 6,
   "id": "4cb4ed68",
   "metadata": {},
   "outputs": [],
   "source": [
    "df_green = df_green \\\n",
    "    .withColumnRenamed('lpep_pickup_datetime', 'pickup_datetime') \\\n",
    "    .withColumnRenamed('lpep_dropoff_datetime', 'dropoff_datetime')\n",
    "df_yellow = df_yellow \\\n",
    "    .withColumnRenamed('tpep_pickup_datetime', 'pickup_datetime') \\\n",
    "    .withColumnRenamed('tpep_dropoff_datetime', 'dropoff_datetime')"
   ]
  },
  {
   "cell_type": "code",
   "execution_count": 7,
   "id": "f7121189",
   "metadata": {},
   "outputs": [
    {
     "data": {
      "text/plain": [
       "{'DOLocationID',\n",
       " 'PULocationID',\n",
       " 'RatecodeID',\n",
       " 'VendorID',\n",
       " 'congestion_surcharge',\n",
       " 'dropoff_datetime',\n",
       " 'extra',\n",
       " 'fare_amount',\n",
       " 'improvement_surcharge',\n",
       " 'mta_tax',\n",
       " 'passenger_count',\n",
       " 'payment_type',\n",
       " 'pickup_datetime',\n",
       " 'store_and_fwd_flag',\n",
       " 'tip_amount',\n",
       " 'tolls_amount',\n",
       " 'total_amount',\n",
       " 'trip_distance'}"
      ]
     },
     "execution_count": 7,
     "metadata": {},
     "output_type": "execute_result"
    }
   ],
   "source": [
    "set(df_green.columns) & set(df_yellow.columns)"
   ]
  },
  {
   "cell_type": "code",
   "execution_count": 18,
   "id": "a3bb5ec9",
   "metadata": {},
   "outputs": [],
   "source": [
    "#In order to keep the columns sorted in same manner:\n",
    "common_columns = []\n",
    "\n",
    "yellow_columns = set(df_yellow.columns)\n",
    "\n",
    "for col in df_green.columns:\n",
    "    if col in yellow_columns:\n",
    "        common_columns.append(col)"
   ]
  },
  {
   "cell_type": "code",
   "execution_count": 19,
   "id": "10a3ed29",
   "metadata": {},
   "outputs": [],
   "source": [
    "from pyspark.sql import functions as F"
   ]
  },
  {
   "cell_type": "code",
   "execution_count": 20,
   "id": "62925823",
   "metadata": {},
   "outputs": [],
   "source": [
    "df_green_uni = df_green \\\n",
    "    .select(common_columns) \\\n",
    "    .withColumn('service_type', F.lit('green')) #F.lit: literal from sql to insert new column with its type"
   ]
  },
  {
   "cell_type": "code",
   "execution_count": 21,
   "id": "4552e091",
   "metadata": {},
   "outputs": [],
   "source": [
    "df_yellow_uni = df_yellow \\\n",
    "    .select(common_columns) \\\n",
    "    .withColumn('service_type', F.lit('yellow'))"
   ]
  },
  {
   "cell_type": "code",
   "execution_count": 22,
   "id": "968d512e",
   "metadata": {},
   "outputs": [],
   "source": [
    "df_trips_data = df_yellow_uni.unionAll(df_green_uni)"
   ]
  },
  {
   "cell_type": "code",
   "execution_count": 23,
   "id": "02299afc",
   "metadata": {},
   "outputs": [
    {
     "name": "stderr",
     "output_type": "stream",
     "text": [
      "[Stage 5:================================================>        (17 + 3) / 20]\r"
     ]
    },
    {
     "name": "stdout",
     "output_type": "stream",
     "text": [
      "+------------+---------+\n",
      "|service_type|    count|\n",
      "+------------+---------+\n",
      "|      yellow|109247536|\n",
      "|       green|  8035161|\n",
      "+------------+---------+\n",
      "\n"
     ]
    },
    {
     "name": "stderr",
     "output_type": "stream",
     "text": [
      "\r",
      "                                                                                \r"
     ]
    }
   ],
   "source": [
    "df_trips_data.groupBy('service_type').count().show()"
   ]
  },
  {
   "cell_type": "code",
   "execution_count": 26,
   "id": "641240c7",
   "metadata": {},
   "outputs": [
    {
     "name": "stderr",
     "output_type": "stream",
     "text": [
      "/home/7asanen999/spark/spark-3.3.1-bin-hadoop3/python/pyspark/sql/dataframe.py:229: FutureWarning: Deprecated in 2.0, use createOrReplaceTempView instead.\n",
      "  warnings.warn(\"Deprecated in 2.0, use createOrReplaceTempView instead.\", FutureWarning)\n"
     ]
    },
    {
     "data": {
      "text/plain": [
       "['VendorID',\n",
       " 'pickup_datetime',\n",
       " 'dropoff_datetime',\n",
       " 'store_and_fwd_flag',\n",
       " 'RatecodeID',\n",
       " 'PULocationID',\n",
       " 'DOLocationID',\n",
       " 'passenger_count',\n",
       " 'trip_distance',\n",
       " 'fare_amount',\n",
       " 'extra',\n",
       " 'mta_tax',\n",
       " 'tip_amount',\n",
       " 'tolls_amount',\n",
       " 'improvement_surcharge',\n",
       " 'total_amount',\n",
       " 'payment_type',\n",
       " 'congestion_surcharge',\n",
       " 'service_type']"
      ]
     },
     "execution_count": 26,
     "metadata": {},
     "output_type": "execute_result"
    }
   ],
   "source": [
    "### SQL:\n",
    "\n",
    "df_trips_data.registerTempTable('trips_data') ### make table to access it by sql\n",
    "df_trips_data.columns"
   ]
  },
  {
   "cell_type": "code",
   "execution_count": 29,
   "id": "a8177c7a",
   "metadata": {},
   "outputs": [
    {
     "name": "stderr",
     "output_type": "stream",
     "text": [
      "[Stage 11:===============================================>        (17 + 3) / 20]\r"
     ]
    },
    {
     "name": "stdout",
     "output_type": "stream",
     "text": [
      "+------------+---------+\n",
      "|service_type| count(1)|\n",
      "+------------+---------+\n",
      "|      yellow|109247536|\n",
      "|       green|  8035161|\n",
      "+------------+---------+\n",
      "\n"
     ]
    },
    {
     "name": "stderr",
     "output_type": "stream",
     "text": [
      "\r",
      "                                                                                \r"
     ]
    }
   ],
   "source": [
    "spark.sql(\"\"\"\n",
    "SELECT service_type, count(1)\n",
    "FROM trips_data\n",
    "WHERE VendorID IS NOT NULL\n",
    "GROUP BY service_type\n",
    "\"\"\").show()"
   ]
  },
  {
   "cell_type": "code",
   "execution_count": 30,
   "id": "7051e9aa",
   "metadata": {},
   "outputs": [],
   "source": [
    "### From dm_monthly_revenue with different zones\n",
    "df_SQL_result = spark.sql(\"\"\"\n",
    "SELECT \n",
    "    -- Reveneue grouping \n",
    "    PULocationID AS revenue_zone,\n",
    "    date_trunc('month', pickup_datetime) AS revenue_month, \n",
    "    service_type, \n",
    "\n",
    "    -- Revenue calculation \n",
    "    SUM(fare_amount) AS revenue_monthly_fare,\n",
    "    SUM(extra) AS revenue_monthly_extra,\n",
    "    SUM(mta_tax) AS revenue_monthly_mta_tax,\n",
    "    SUM(tip_amount) AS revenue_monthly_tip_amount,\n",
    "    SUM(tolls_amount) AS revenue_monthly_tolls_amount,\n",
    "    SUM(improvement_surcharge) AS revenue_monthly_improvement_surcharge,\n",
    "    SUM(total_amount) AS revenue_monthly_total_amount,\n",
    "    SUM(congestion_surcharge) AS revenue_monthly_congestion_surcharge,\n",
    "\n",
    "    -- Additional calculations\n",
    "    AVG(passenger_count) AS avg_montly_passenger_count,\n",
    "    AVG(trip_distance) AS avg_montly_trip_distance\n",
    "FROM trips_data\n",
    "GROUP BY 1, 2, 3\n",
    "\"\"\")"
   ]
  },
  {
   "cell_type": "code",
   "execution_count": 31,
   "id": "6b120624",
   "metadata": {},
   "outputs": [
    {
     "name": "stderr",
     "output_type": "stream",
     "text": [
      "[Stage 14:=====================================================>  (19 + 1) / 20]\r"
     ]
    },
    {
     "name": "stdout",
     "output_type": "stream",
     "text": [
      "+------------+-------------------+------------+--------------------+---------------------+-----------------------+--------------------------+----------------------------+-------------------------------------+----------------------------+------------------------------------+--------------------------+------------------------+\n",
      "|revenue_zone|      revenue_month|service_type|revenue_monthly_fare|revenue_monthly_extra|revenue_monthly_mta_tax|revenue_monthly_tip_amount|revenue_monthly_tolls_amount|revenue_monthly_improvement_surcharge|revenue_monthly_total_amount|revenue_monthly_congestion_surcharge|avg_montly_passenger_count|avg_montly_trip_distance|\n",
      "+------------+-------------------+------------+--------------------+---------------------+-----------------------+--------------------------+----------------------------+-------------------------------------+----------------------------+------------------------------------+--------------------------+------------------------+\n",
      "|         149|2019-03-01 00:00:00|      yellow|  13378.940000000026|                284.5|                  188.5|        42.510000000000005|           627.3799999999993|                   126.89999999999915|          14653.730000000018|                                 5.0|        1.4637223974763407|       8.583664302600473|\n",
      "|         241|2019-03-01 00:00:00|      yellow|    9495.80000000001|               159.75|                  143.5|                    128.49|           387.8399999999996|                    93.89999999999947|          10439.030000000024|                                25.0|        1.2841328413284132|      7.5846835443037985|\n",
      "|         121|2019-03-01 00:00:00|      yellow|  11355.470000000023|               245.25|                  155.0|        216.70999999999998|           568.8199999999994|                   117.89999999999924|          12675.000000000018|                                10.0|        1.3823529411764706|       8.137291139240508|\n",
      "|         264|2019-02-01 00:00:00|      yellow|  1074307.7700000086|             50166.25|                34123.6|         148350.6300000009|          20866.759999999453|                    20927.39999997263|          1350768.9000007883|                            30080.25|        1.4068682712361198|       2.466000788576898|\n",
      "|         143|2019-03-01 00:00:00|      yellow|   938525.4599999951|            109567.05|                44820.5|         164815.7200000016|           10775.70000000023|                    27034.79999995781|          1430933.8800011494|                           220902.25|        1.5715031431173505|      2.1225677022209486|\n",
      "|          43|2019-02-01 00:00:00|      yellow|  1046835.7699999987|    91433.20000000001|                48505.5|          179593.580000001|           11042.89000000025|                   29177.099999952614|          1562648.1600013485|                            222121.5|         1.648052668337373|      2.1392478116758333|\n",
      "|         228|2019-03-01 00:00:00|      yellow|  19916.830000000016|               432.25|                  374.0|                    941.44|           543.3599999999996|                   239.40000000000336|          22683.929999999884|                               182.5|        1.3994374120956399|       6.051133004926108|\n",
      "|         178|2019-03-01 00:00:00|      yellow|  4718.7199999999975|                116.0|                   85.5|                      28.4|          234.71999999999986|                    57.29999999999981|           5243.140000000007|                                 5.0|         1.308641975308642|       6.276753926701572|\n",
      "|         230|2019-03-01 00:00:00|      yellow|   3559134.320000008|   364757.14999999997|               138067.0|         610156.8800000077|          106259.77999997782|                    83501.40000043606|           5294629.529986443|                           686400.75|        1.6244153682821152|       2.760455002846966|\n",
      "|         224|2019-03-01 00:00:00|      yellow|  175168.66000000012|             17344.75|                 7708.5|        29021.120000000126|          2472.7100000000096|                    4645.500000001356|          260329.28999996348|                             37753.0|        1.5418442464161177|      2.4327439495365595|\n",
      "|          16|2019-03-01 00:00:00|      yellow|   9743.120000000008|               176.75|                  140.0|         78.35000000000001|          368.99999999999966|                     90.8999999999995|          10600.620000000026|                                 5.0|         1.105058365758755|       8.165523809523808|\n",
      "|         191|2019-03-01 00:00:00|      yellow|  23901.809999999998|                424.5|                  256.0|        36.089999999999996|          1089.7199999999987|                   172.80000000000084|          25887.869999999944|                                 7.5|        1.4807692307692308|      11.635980551053471|\n",
      "|         141|2019-03-01 00:00:00|      yellow|  1715321.1799999957|             215589.4|                89059.0|        308023.63999999635|          15440.770000000448|                   53561.100000145605|          2674640.2899989686|                           441985.25|        1.5605605605605606|       1.963662203062361|\n",
      "|         101|2019-03-01 00:00:00|      yellow|  10412.650000000012|               177.75|                  110.0|                     38.37|          425.47999999999956|                    80.69999999999959|          11247.450000000006|                                 2.5|         1.167464114832536|        11.1556690140845|\n",
      "|         237|2009-01-01 00:00:00|      yellow|               190.5|                  5.0|                    9.5|        20.310000000000002|                        5.76|                    5.699999999999998|          276.77000000000004|                                40.0|        2.3684210526315788|      1.9578947368421054|\n",
      "|         107|2019-02-01 00:00:00|      yellow|   1722417.329999991|             194235.6|                80990.0|         314986.6199999968|          26401.709999998035|                     48738.3000000988|           2628743.889999421|                           379571.25|        1.5754227428578464|      2.1427310741193026|\n",
      "|         246|2019-02-01 00:00:00|      yellow|  1205454.9099999946|             137327.2|                51857.0|        224469.32999999714|          19950.889999999596|                   31286.099999947503|          1814811.6800014642|                            246636.5|        1.5771910489242418|      2.3669088282289064|\n",
      "|         158|2019-02-01 00:00:00|      yellow|   811100.7599999995|    91262.25000000001|                34562.0|        151101.59000000203|           9128.220000000174|                    20824.49999997287|          1214505.6200007065|                           163789.75|        1.5973228663446055|       2.485344170870867|\n",
      "|         248|2019-03-01 00:00:00|      yellow|   7366.669999999997|               166.05|                  125.5|                     91.64|           375.9099999999997|                    78.59999999999961|           8213.820000000014|                                15.0|        1.3926940639269407|       7.503977695167279|\n",
      "|          52|2019-03-01 00:00:00|      yellow|  58845.829999999965|              1995.75|                 2035.0|         9798.000000000004|          500.50999999999954|                    1229.699999999905|           77140.89000000268|                              3852.5|        1.5482531150745176|       3.582911300121503|\n",
      "+------------+-------------------+------------+--------------------+---------------------+-----------------------+--------------------------+----------------------------+-------------------------------------+----------------------------+------------------------------------+--------------------------+------------------------+\n",
      "only showing top 20 rows\n",
      "\n"
     ]
    },
    {
     "name": "stderr",
     "output_type": "stream",
     "text": [
      "\r",
      "                                                                                \r"
     ]
    }
   ],
   "source": [
    "df_SQL_result.show()"
   ]
  },
  {
   "cell_type": "code",
   "execution_count": 33,
   "id": "85a58138",
   "metadata": {},
   "outputs": [
    {
     "name": "stderr",
     "output_type": "stream",
     "text": [
      "                                                                                \r"
     ]
    }
   ],
   "source": [
    "df_SQL_result.write.parquet('data/report/revenue/dm_monthly_zones_revenue.parquet', mode='overwrite')"
   ]
  },
  {
   "cell_type": "code",
   "execution_count": 36,
   "id": "43ad8df4",
   "metadata": {},
   "outputs": [],
   "source": [
    "df_read_result = spark.read.parquet(\"./data/report/revenue/dm_monthly_zones_revenue.parquet\")"
   ]
  },
  {
   "cell_type": "code",
   "execution_count": 37,
   "id": "e84db185",
   "metadata": {},
   "outputs": [
    {
     "name": "stdout",
     "output_type": "stream",
     "text": [
      "+------------+-------------------+------------+--------------------+---------------------+-----------------------+--------------------------+----------------------------+-------------------------------------+----------------------------+------------------------------------+--------------------------+------------------------+\n",
      "|revenue_zone|      revenue_month|service_type|revenue_monthly_fare|revenue_monthly_extra|revenue_monthly_mta_tax|revenue_monthly_tip_amount|revenue_monthly_tolls_amount|revenue_monthly_improvement_surcharge|revenue_monthly_total_amount|revenue_monthly_congestion_surcharge|avg_montly_passenger_count|avg_montly_trip_distance|\n",
      "+------------+-------------------+------------+--------------------+---------------------+-----------------------+--------------------------+----------------------------+-------------------------------------+----------------------------+------------------------------------+--------------------------+------------------------+\n",
      "|         149|2019-03-01 00:00:00|      yellow|  13378.940000000026|                284.5|                  188.5|        42.510000000000005|           627.3799999999993|                   126.89999999999915|          14653.730000000018|                                 5.0|        1.4637223974763407|       8.583664302600473|\n",
      "|         241|2019-03-01 00:00:00|      yellow|    9495.80000000001|               159.75|                  143.5|                    128.49|           387.8399999999996|                    93.89999999999947|          10439.030000000024|                                25.0|        1.2841328413284132|      7.5846835443037985|\n",
      "|         121|2019-03-01 00:00:00|      yellow|  11355.470000000023|               245.25|                  155.0|        216.70999999999998|           568.8199999999994|                   117.89999999999924|          12675.000000000018|                                10.0|        1.3823529411764706|       8.137291139240508|\n",
      "|         264|2019-02-01 00:00:00|      yellow|  1074307.7700000086|             50166.25|                34123.6|         148350.6300000009|          20866.759999999453|                    20927.39999997263|          1350768.9000007883|                            30080.25|        1.4068682712361198|       2.466000788576898|\n",
      "|         143|2019-03-01 00:00:00|      yellow|   938525.4599999951|            109567.05|                44820.5|         164815.7200000016|           10775.70000000023|                    27034.79999995781|          1430933.8800011494|                           220902.25|        1.5715031431173505|      2.1225677022209486|\n",
      "|          43|2019-02-01 00:00:00|      yellow|  1046835.7699999987|    91433.20000000001|                48505.5|          179593.580000001|           11042.89000000025|                   29177.099999952614|          1562648.1600013485|                            222121.5|         1.648052668337373|      2.1392478116758333|\n",
      "|         228|2019-03-01 00:00:00|      yellow|  19916.830000000016|               432.25|                  374.0|                    941.44|           543.3599999999996|                   239.40000000000336|          22683.929999999884|                               182.5|        1.3994374120956399|       6.051133004926108|\n",
      "|         178|2019-03-01 00:00:00|      yellow|  4718.7199999999975|                116.0|                   85.5|                      28.4|          234.71999999999986|                    57.29999999999981|           5243.140000000007|                                 5.0|         1.308641975308642|       6.276753926701572|\n",
      "|         230|2019-03-01 00:00:00|      yellow|   3559134.320000008|   364757.14999999997|               138067.0|         610156.8800000077|          106259.77999997782|                    83501.40000043606|           5294629.529986443|                           686400.75|        1.6244153682821152|       2.760455002846966|\n",
      "|         224|2019-03-01 00:00:00|      yellow|  175168.66000000012|             17344.75|                 7708.5|        29021.120000000126|          2472.7100000000096|                    4645.500000001356|          260329.28999996348|                             37753.0|        1.5418442464161177|      2.4327439495365595|\n",
      "|          16|2019-03-01 00:00:00|      yellow|   9743.120000000008|               176.75|                  140.0|         78.35000000000001|          368.99999999999966|                     90.8999999999995|          10600.620000000026|                                 5.0|         1.105058365758755|       8.165523809523808|\n",
      "|         191|2019-03-01 00:00:00|      yellow|  23901.809999999998|                424.5|                  256.0|        36.089999999999996|          1089.7199999999987|                   172.80000000000084|          25887.869999999944|                                 7.5|        1.4807692307692308|      11.635980551053471|\n",
      "|         141|2019-03-01 00:00:00|      yellow|  1715321.1799999957|             215589.4|                89059.0|        308023.63999999635|          15440.770000000448|                   53561.100000145605|          2674640.2899989686|                           441985.25|        1.5605605605605606|       1.963662203062361|\n",
      "|         101|2019-03-01 00:00:00|      yellow|  10412.650000000012|               177.75|                  110.0|                     38.37|          425.47999999999956|                    80.69999999999959|          11247.450000000006|                                 2.5|         1.167464114832536|        11.1556690140845|\n",
      "|         237|2009-01-01 00:00:00|      yellow|               190.5|                  5.0|                    9.5|        20.310000000000002|                        5.76|                    5.699999999999998|          276.77000000000004|                                40.0|        2.3684210526315788|      1.9578947368421054|\n",
      "|         107|2019-02-01 00:00:00|      yellow|   1722417.329999991|             194235.6|                80990.0|         314986.6199999968|          26401.709999998035|                     48738.3000000988|           2628743.889999421|                           379571.25|        1.5754227428578464|      2.1427310741193026|\n",
      "|         246|2019-02-01 00:00:00|      yellow|  1205454.9099999946|             137327.2|                51857.0|        224469.32999999714|          19950.889999999596|                   31286.099999947503|          1814811.6800014642|                            246636.5|        1.5771910489242418|      2.3669088282289064|\n",
      "|         158|2019-02-01 00:00:00|      yellow|   811100.7599999995|    91262.25000000001|                34562.0|        151101.59000000203|           9128.220000000174|                    20824.49999997287|          1214505.6200007065|                           163789.75|        1.5973228663446055|       2.485344170870867|\n",
      "|         248|2019-03-01 00:00:00|      yellow|   7366.669999999997|               166.05|                  125.5|                     91.64|           375.9099999999997|                    78.59999999999961|           8213.820000000014|                                15.0|        1.3926940639269407|       7.503977695167279|\n",
      "|          52|2019-03-01 00:00:00|      yellow|  58845.829999999965|              1995.75|                 2035.0|         9798.000000000004|          500.50999999999954|                    1229.699999999905|           77140.89000000268|                              3852.5|        1.5482531150745176|       3.582911300121503|\n",
      "+------------+-------------------+------------+--------------------+---------------------+-----------------------+--------------------------+----------------------------+-------------------------------------+----------------------------+------------------------------------+--------------------------+------------------------+\n",
      "only showing top 20 rows\n",
      "\n"
     ]
    }
   ],
   "source": [
    "df_read_result.show()"
   ]
  },
  {
   "cell_type": "code",
   "execution_count": null,
   "id": "cc8395f9",
   "metadata": {},
   "outputs": [],
   "source": []
  }
 ],
 "metadata": {
  "kernelspec": {
   "display_name": "Python 3 (ipykernel)",
   "language": "python",
   "name": "python3"
  },
  "language_info": {
   "codemirror_mode": {
    "name": "ipython",
    "version": 3
   },
   "file_extension": ".py",
   "mimetype": "text/x-python",
   "name": "python",
   "nbconvert_exporter": "python",
   "pygments_lexer": "ipython3",
   "version": "3.9.13"
  }
 },
 "nbformat": 4,
 "nbformat_minor": 5
}
